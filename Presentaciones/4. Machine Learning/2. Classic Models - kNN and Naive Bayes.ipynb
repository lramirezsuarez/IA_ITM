{
 "cells": [
  {
   "cell_type": "markdown",
   "metadata": {},
   "source": [
    "<img src=\"res/itm_logo.jpg\" width=\"300px\">\n",
    "\n",
    "## Inteligencia Artificial - IAI84\n",
    "### Instituto Tecnológico Metropolitano\n",
    "#### Pedro Atencio Ortiz - 2020\n",
    "\n",
    "Agenda:\n",
    "<ul>\n",
    "    <li>kNN</li>\n",
    "    <li>Naive Bayes</li>\n",
    "</ul>"
   ]
  },
  {
   "cell_type": "markdown",
   "metadata": {},
   "source": [
    "<hr>\n",
    "\n",
    "# 1. k-NN\n",
    "\n",
    "### Implementemos k-NN utilizando Numpy."
   ]
  },
  {
   "cell_type": "code",
   "execution_count": 1,
   "metadata": {},
   "outputs": [],
   "source": [
    "import numpy as np\n",
    "import time\n",
    "import matplotlib.pyplot as plt"
   ]
  },
  {
   "cell_type": "code",
   "execution_count": 2,
   "metadata": {},
   "outputs": [],
   "source": [
    "def euclidean_dist(x_i, x_j):\n",
    "    \"\"\"\n",
    "    Implements a euclidean distance between two arrays.\n",
    "    Arrays must be two-dimensional\n",
    "\n",
    "    Arguments:\n",
    "    x_i -- array i\n",
    "    x_j -- array j (can be a matrix)\n",
    "\n",
    "    Returns:\n",
    "    euclidean distance\n",
    "    \"\"\"\n",
    "    return np.sqrt(np.sum((x_i - x_j)**2, axis=1))"
   ]
  },
  {
   "cell_type": "code",
   "execution_count": 3,
   "metadata": {},
   "outputs": [],
   "source": [
    "# 1. Dataset de personas visto en la sesion magistral\n",
    "X = np.array([[6, 180, 12], \n",
    "              [5.92,190,11],\n",
    "              [5.58,170,12],\n",
    "              [5.92,165,10],\n",
    "              [5,100,6],\n",
    "              [5.5,150,8],\n",
    "              [5.42,130,7],\n",
    "              [5.75,150,9]])\n",
    "\n",
    "#0:hombre 1:mujer\n",
    "Y = np.array([0,0,0,0,1,1,1,1])"
   ]
  },
  {
   "cell_type": "code",
   "execution_count": 4,
   "metadata": {},
   "outputs": [
    {
     "name": "stdout",
     "output_type": "stream",
     "text": [
      "distancias:  [23.5380543  33.24175687 13.93012563  8.5448464  57.01438415  7.07742891\n",
      " 27.00267394  7.28028159]\n"
     ]
    }
   ],
   "source": [
    "# 2. calculemos las distancias desde el nuevo dato x con respecto a todo el dataset X\n",
    "\n",
    "x = np.array([[5.8, 157, 7]])\n",
    "\n",
    "d = euclidean_dist(x, X)\n",
    "\n",
    "print(\"distancias: \", d)"
   ]
  },
  {
   "cell_type": "code",
   "execution_count": 5,
   "metadata": {},
   "outputs": [
    {
     "name": "stdout",
     "output_type": "stream",
     "text": [
      "[5 7 3 2 0 6 1 4]\n",
      "[1 1 0 0 0 1 0 1]\n"
     ]
    }
   ],
   "source": [
    "# 3. ordenamos las distancias y obtenemos las clases segun los indices ordenados\n",
    "\n",
    "ind_ord = np.argsort(d)\n",
    "print(ind_ord)\n",
    "Y_ord = Y[ind_ord]\n",
    "print(Y_ord)"
   ]
  },
  {
   "cell_type": "code",
   "execution_count": 6,
   "metadata": {},
   "outputs": [
    {
     "name": "stdout",
     "output_type": "stream",
     "text": [
      "El objeto  [[  5.8 157.    7. ]]  pertenece a la clase:  mujer\n"
     ]
    }
   ],
   "source": [
    "# 4. definamos k y seleccionemos los primeros k elementos y determinemos la categoria de x\n",
    "\n",
    "k = 3\n",
    "first_k = Y_ord[:k]\n",
    "\n",
    "more_frequent_class = np.bincount(first_k).argmax()\n",
    "\n",
    "clase = \"mujer\" if more_frequent_class==1 else \"hombre\"\n",
    "\n",
    "print(\"El objeto \",x,\" pertenece a la clase: \",clase)"
   ]
  },
  {
   "cell_type": "markdown",
   "metadata": {},
   "source": [
    "<hr>\n",
    "\n",
    "### Ahora implementemos el ejemplo anterior utilizando la libreria sklearn."
   ]
  },
  {
   "cell_type": "code",
   "execution_count": 7,
   "metadata": {},
   "outputs": [
    {
     "data": {
      "text/plain": [
       "KNeighborsClassifier(algorithm='auto', leaf_size=30, metric='euclidean',\n",
       "                     metric_params=None, n_jobs=None, n_neighbors=3, p=2,\n",
       "                     weights='uniform')"
      ]
     },
     "execution_count": 7,
     "metadata": {},
     "output_type": "execute_result"
    }
   ],
   "source": [
    "from sklearn.neighbors import KNeighborsClassifier\n",
    "from time import time\n",
    "\n",
    "\n",
    "# 1. Entrenamos el modelo con los datos\n",
    "k=3\n",
    "model = KNeighborsClassifier(n_neighbors=k, metric='euclidean')\n",
    "model.fit(X, Y)"
   ]
  },
  {
   "cell_type": "code",
   "execution_count": 8,
   "metadata": {},
   "outputs": [
    {
     "name": "stdout",
     "output_type": "stream",
     "text": [
      "El objeto  [[  5.8 157.    7. ]]  pertenece a la clase:  mujer\n"
     ]
    }
   ],
   "source": [
    "# 2. utilicemos el modelo entrenado para lanzar una prediccion\n",
    "x = np.array([[5.8, 157, 7]])\n",
    "pred = model.predict(x)\n",
    "\n",
    "clase = \"mujer\" if pred==1 else \"hombre\"\n",
    "\n",
    "print(\"El objeto \",x,\" pertenece a la clase: \",clase)"
   ]
  },
  {
   "cell_type": "markdown",
   "metadata": {},
   "source": [
    "<hr>\n",
    "\n",
    "## Trabajemos\n",
    "\n",
    "Ploteemos la superficie de decision de este modelo para tener una idea espacial de su comportamiento, probando distintos valores de k."
   ]
  },
  {
   "cell_type": "code",
   "execution_count": 9,
   "metadata": {},
   "outputs": [],
   "source": [
    "'''\n",
    "    Utility functions\n",
    "'''\n",
    "\n",
    "import numpy as np\n",
    "import sklearn\n",
    "from sklearn import datasets\n",
    "import matplotlib.pyplot as plt\n",
    "\n",
    "def generate_data(data_type):\n",
    "    \"\"\"\n",
    "    Generate a binary dataset with distribution data_type\n",
    "\n",
    "    Arguments:\n",
    "    data_type -- distribution of dataset {moons,circles,blobs}\n",
    "\n",
    "    Returns:\n",
    "    X -- features\n",
    "    Y -- labels\n",
    "    \"\"\" \n",
    "    np.random.seed(0)\n",
    "    if data_type == 'moons':\n",
    "        X, Y = datasets.make_moons(200, noise=0.20)\n",
    "    elif data_type == 'circles':\n",
    "        X, Y = sklearn.datasets.make_circles(200, noise=0.20)\n",
    "    elif data_type == 'blobs':\n",
    "        X, Y = sklearn.datasets.make_blobs(centers=2, random_state=0)\n",
    "    return X, Y\n",
    "\n",
    "def visualize(X, y, model):\n",
    "    plot_decision_boundary(lambda x:model.predict(x), X, y)\n",
    "\n",
    "def plot_decision_boundary(pred_func, X, y):\n",
    "    # Set min and max values and give it some padding\n",
    "    x_min, x_max = X[:, 0].min() - .5, X[:, 0].max() + .5\n",
    "    y_min, y_max = X[:, 1].min() - .5, X[:, 1].max() + .5\n",
    "    h = 0.01\n",
    "    # Generate a grid of points with distance h between them\n",
    "    xx, yy = np.meshgrid(np.arange(x_min, x_max, h), np.arange(y_min, y_max, h))\n",
    "    # Predict the function value for the whole gid\n",
    "    Z = pred_func(np.c_[xx.ravel(), yy.ravel()])\n",
    "    Z = Z.reshape(xx.shape)\n",
    "    # Plot the contour and training examples\n",
    "    plt.figure(figsize=(7,5))\n",
    "    plt.contourf(xx, yy, Z, cmap=plt.cm.Spectral)\n",
    "    plt.scatter(X[:, 0], X[:, 1], c=y, cmap=plt.cm.Spectral)\n",
    "    plt.show()"
   ]
  },
  {
   "cell_type": "code",
   "execution_count": 10,
   "metadata": {},
   "outputs": [],
   "source": [
    "X, Y = generate_data('blobs')\n",
    "\n",
    "X"
   ]
  },
  {
   "cell_type": "code",
   "execution_count": 11,
   "metadata": {},
   "outputs": [
    {
     "data": {
      "image/png": "[encoded data removed]",
      "text/plain": [
       "<Figure size 504x360 with 1 Axes>"
      ]
     },
     "metadata": {
      "needs_background": "light"
     },
     "output_type": "display_data"
    }
   ],
   "source": [
    "color= ['red' if y == 1 else 'green' for y in Y]\n",
    "\n",
    "plt.figure(figsize=(7,5))\n",
    "plt.scatter(X[:,0], X[:,1], color=color)\n",
    "\n",
    "plt.show()"
   ]
  },
  {
   "cell_type": "code",
   "execution_count": 12,
   "metadata": {},
   "outputs": [
    {
     "data": {
      "text/plain": [
       "KNeighborsClassifier(algorithm='auto', leaf_size=30, metric='euclidean',\n",
       "                     metric_params=None, n_jobs=None, n_neighbors=3, p=2,\n",
       "                     weights='uniform')"
      ]
     },
     "execution_count": 12,
     "metadata": {},
     "output_type": "execute_result"
    }
   ],
   "source": [
    "from sklearn.neighbors import KNeighborsClassifier\n",
    "from time import time\n",
    "\n",
    "\n",
    "# 1. Entrenamos el modelo con los datos\n",
    "neigh = KNeighborsClassifier(n_neighbors=3, metric='euclidean')\n",
    "neigh.fit(X, Y)"
   ]
  },
  {
   "cell_type": "code",
   "execution_count": null,
   "metadata": {},
   "outputs": [],
   "source": [
    "visualize(X, Y, neigh)"
   ]
  },
  {
   "cell_type": "markdown",
   "metadata": {},
   "source": [
    "<hr>\n",
    "\n",
    "# Naive Bayes\n",
    "\n",
    "### Trabajemos: \n",
    "\n",
    "Utilizando los conceptos vistos en sesion magistral, implementar Naive Bayes utilizando numpy."
   ]
  },
  {
   "cell_type": "markdown",
   "metadata": {},
   "source": [
    "<hr>\n",
    "\n",
    "### Naive Bayes utilizando sklearn"
   ]
  },
  {
   "cell_type": "code",
   "execution_count": null,
   "metadata": {},
   "outputs": [],
   "source": [
    "# 1. Dataset de personas visto en la sesion magistral\n",
    "X = np.array([[6, 180, 12], \n",
    "              [5.92,190,11],\n",
    "              [5.58,170,12],\n",
    "              [5.92,165,10],\n",
    "              [5,100,6],\n",
    "              [5.5,150,8],\n",
    "              [5.42,130,7],\n",
    "              [5.75,150,9]])\n",
    "\n",
    "#0:hombre 1:mujer\n",
    "Y = np.array([0,0,0,0,1,1,1,1])"
   ]
  },
  {
   "cell_type": "code",
   "execution_count": null,
   "metadata": {},
   "outputs": [],
   "source": [
    "from sklearn.naive_bayes import GaussianNB\n",
    "\n",
    "# 1. Entrenamos el modelo con los datos\n",
    "model = GaussianNB()\n",
    "model.fit(X, Y)"
   ]
  },
  {
   "cell_type": "code",
   "execution_count": null,
   "metadata": {},
   "outputs": [],
   "source": [
    "# 2. utilicemos el modelo entrenado para lanzar una prediccion\n",
    "x = np.array([[5.8, 157, 7]])\n",
    "pred = model.predict(x)\n",
    "\n",
    "clase = \"mujer\" if pred==1 else \"hombre\"\n",
    "\n",
    "print(\"El objeto \",x,\" pertenece a la clase: \",clase)"
   ]
  },
  {
   "cell_type": "markdown",
   "metadata": {},
   "source": [
    "<hr>\n",
    "\n",
    "## Analicemos\n",
    "\n",
    "Ploteemos la superficie de decision de este modelo para tener una idea espacial de su comportamiento."
   ]
  },
  {
   "cell_type": "code",
   "execution_count": null,
   "metadata": {},
   "outputs": [],
   "source": [
    "X, Y = generate_data('blobs')"
   ]
  },
  {
   "cell_type": "code",
   "execution_count": null,
   "metadata": {},
   "outputs": [],
   "source": [
    "color= ['red' if y == 1 else 'green' for y in Y]\n",
    "\n",
    "plt.figure(figsize=(7,5))\n",
    "plt.scatter(X[:,0], X[:,1], color=color)\n",
    "\n",
    "plt.show()"
   ]
  },
  {
   "cell_type": "code",
   "execution_count": null,
   "metadata": {},
   "outputs": [],
   "source": [
    "# 1. Entrenamos el modelo con los datos\n",
    "model = GaussianNB()\n",
    "model.fit(X, Y)\n",
    "\n",
    "visualize(X, Y, model)"
   ]
  },
  {
   "cell_type": "code",
   "execution_count": null,
   "metadata": {},
   "outputs": [],
   "source": []
  }
 ],
 "metadata": {
  "kernelspec": {
   "display_name": "Python 3",
   "language": "python",
   "name": "python3"
  },
  "language_info": {
   "codemirror_mode": {
    "name": "ipython",
    "version": 3
   },
   "file_extension": ".py",
   "mimetype": "text/x-python",
   "name": "python",
   "nbconvert_exporter": "python",
   "pygments_lexer": "ipython3",
   "version": "3.6.2"
  }
 },
 "nbformat": 4,
 "nbformat_minor": 2
}
