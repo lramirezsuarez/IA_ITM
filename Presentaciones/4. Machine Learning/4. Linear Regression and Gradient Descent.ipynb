{
 "cells": [
  {
   "cell_type": "markdown",
   "metadata": {},
   "source": [
    "<img src=\"res/itm_logo.jpg\" width=\"300px\">\n",
    "\n",
    "## Inteligencia Artificial - IAI84\n",
    "### Instituto Tecnológico Metropolitano\n",
    "#### Pedro Atencio Ortiz - 2020\n",
    "\n",
    "\n",
    "En este notebook se abordan los temas:\n",
    "\n",
    "- Regresión lineal.\n",
    "- Descenso del gradiente."
   ]
  },
  {
   "cell_type": "code",
   "execution_count": null,
   "metadata": {},
   "outputs": [],
   "source": [
    "import numpy as np\n",
    "import matplotlib.pyplot as plt"
   ]
  },
  {
   "cell_type": "code",
   "execution_count": null,
   "metadata": {},
   "outputs": [],
   "source": [
    "x = np.array([[0.4],[1.5]])\n",
    "y = 2.8\n",
    "\n",
    "w = np.array([[3.2],[1.6]])\n",
    "b = -1.4\n",
    "\n",
    "#descenso del gradiente\n"
   ]
  },
  {
   "cell_type": "markdown",
   "metadata": {},
   "source": [
    "Un modelo lineal se define como: <font size=\"5\">$Y = WX+b$</font>"
   ]
  },
  {
   "cell_type": "code",
   "execution_count": null,
   "metadata": {},
   "outputs": [],
   "source": [
    "np.random.seed(2) #aseguramos que el resultado del random es el mismo en cada ejecucion\n",
    "\n",
    "m = 100\n",
    "X = 2 * np.random.rand(m,1)\n",
    "\n",
    "W = np.random.randint(3,8)+np.random.rand()\n",
    "b = np.random.randint(3,8)+np.random.rand()\n",
    "\n",
    "Y = W * X + b  #regresor lineal\n",
    "\n",
    "Y = Y + np.random.randn(m,1) #ruido"
   ]
  },
  {
   "cell_type": "code",
   "execution_count": null,
   "metadata": {},
   "outputs": [],
   "source": [
    "print(b)"
   ]
  },
  {
   "cell_type": "code",
   "execution_count": null,
   "metadata": {},
   "outputs": [],
   "source": [
    "plt.scatter(X, Y, color='red')\n",
    "plt.xlabel(\"x\", fontsize=15)\n",
    "plt.ylabel(\"y\", fontsize=15)\n",
    "plt.show()"
   ]
  },
  {
   "cell_type": "markdown",
   "metadata": {},
   "source": [
    "La regresión lineal consiste en hallar los valores de $W$ y $b$ tales que definan una recta que se acerque lo mejor posible a los valores originales de $Y$ dados los $X$ de entrada.\n",
    "\n",
    "En este punto, podemos adivinar dichos valores?"
   ]
  },
  {
   "cell_type": "code",
   "execution_count": null,
   "metadata": {},
   "outputs": [],
   "source": [
    "W = 0.43599490214200376\n",
    "b = 0\n",
    "\n",
    "Y_pred = W * X + b\n",
    "\n",
    "plt.scatter(X, Y, color='red')\n",
    "plt.plot(X, Y_pred)\n",
    "\n",
    "plt.xlabel(\"x\", fontsize=15)\n",
    "plt.ylabel(\"y\", fontsize=15)\n",
    "plt.show()"
   ]
  },
  {
   "cell_type": "markdown",
   "metadata": {},
   "source": [
    "La regresión lineal permite encontrar un valor $a$ y un valor $b$ tal que la linea que define la siguiente ecuación, minimiza la distancia de todos los datos respecto a la misma.\n",
    "\n",
    "<center><font size=5>$y = aX+b$</font></center>\n",
    "\n",
    "La solución exacta o ecuación normal de la regresión lineal es la siguiente:\n",
    "\n",
    "<center><font size=5>$X = [1, X]$</font></center>\n",
    "<center><font size=5>$\\theta = [b, a] = (X^T \\cdot X)^{-1} \\cdot X^T \\cdot Y $</font></center>\n",
    "\n",
    "Es decir, encontrando $r$ encontramos los valores de $a$ y $b$ que resuelven el problema de ajuste lineal."
   ]
  },
  {
   "cell_type": "code",
   "execution_count": null,
   "metadata": {},
   "outputs": [],
   "source": [
    "X_b = np.c_[np.ones((m,1)), X] #X with bias\n",
    "theta = np.dot(np.dot(np.linalg.inv(np.dot(np.transpose(X_b), X_b)), np.transpose(X_b)), Y)"
   ]
  },
  {
   "cell_type": "code",
   "execution_count": null,
   "metadata": {},
   "outputs": [],
   "source": [
    "print(theta)"
   ]
  },
  {
   "cell_type": "code",
   "execution_count": null,
   "metadata": {},
   "outputs": [],
   "source": [
    "#Ejemplo de prediccion para dos datos del conjunto\n",
    "\n",
    "x = np.array([[0], [2]])\n",
    "y_solution = theta[1]*x + theta[0]\n",
    "\n",
    "print(y_solution)"
   ]
  },
  {
   "cell_type": "code",
   "execution_count": null,
   "metadata": {},
   "outputs": [],
   "source": [
    "plt.scatter(X, Y, color='red')\n",
    "plt.plot(x, y_solution)\n",
    "\n",
    "plt.xlabel(\"x\", fontsize=15)\n",
    "plt.ylabel(\"y\", fontsize=15)\n",
    "plt.show()"
   ]
  },
  {
   "cell_type": "markdown",
   "metadata": {},
   "source": [
    "<hr>\n",
    "<h2> Implementemos el ejemplo anterior mediante descenso del gradiente </h2>"
   ]
  },
  {
   "cell_type": "markdown",
   "metadata": {},
   "source": [
    "El algoritmo del descenso del gradiente se basa en minimizar una función de error $g(x)$ utilizando las derivadas de los parámetros del modelo respecto a dicha función. Sea $\\theta$ un conjunto de parámetros, $X$ un conjunto de elementos de entrada y $Y$ un conjunto de elementos de salida:\n",
    "\n",
    "Algoritmo del gradiente con tasa de apredizaje:\n",
    "\n",
    "<br>\n",
    "\n",
    "<font size=2>\n",
    "\n",
    "$\n",
    "\\\\\n",
    "repeat(n\\_{epochs})\\{\n",
    "\\\\\n",
    "    \\hspace{10mm}dW = 0\n",
    "    \\\\\n",
    "    \\hspace{10mm}db = 0\n",
    "    \\\\\n",
    "    \\hspace{10mm}e = 0\n",
    "    \\\\\n",
    "    \\hspace{10mm} for(i:1 \\rightarrow m)\\{\n",
    "    \\\\\n",
    "    \\hspace{20mm} Y_{pred} = Wx^{[i]}+b\n",
    "    \\\\\n",
    "    \\hspace{20mm} e = e + \\frac{1}{2}(Y^{[i]} - Y_{pred}^{[i]})^2\n",
    "    \\\\\n",
    "    \\hspace{20mm} dZ = (y_{pred}^{[i]} - y^{[i]})\n",
    "    \\\\\n",
    "    \\hspace{20mm} dW = dW + dZ*x^{[i]}\n",
    "    \\\\\n",
    "    \\hspace{20mm} db = db + dZ\n",
    "    \\\\\n",
    "    \\hspace{10mm}\\}\n",
    "    \\\\\n",
    "    \\hspace{10mm}dW = \\frac{dW}{m}\n",
    "    \\\\\n",
    "    \\hspace{10mm}db = \\frac{db}{m}\n",
    "    \\\\\n",
    "    \\hspace{10mm}e = \\frac{e}{m}\n",
    "    \\\\\n",
    "    \\hspace{10mm} W = W - \\alpha dW\n",
    "    \\\\\n",
    "    \\hspace{10mm} b = b - \\alpha db\n",
    "\\\\\n",
    "\\}\n",
    "$\n",
    "</font>"
   ]
  },
  {
   "cell_type": "code",
   "execution_count": null,
   "metadata": {},
   "outputs": [],
   "source": [
    "X_new = X.T\n",
    "Y_new = Y.T\n",
    "\n",
    "print(X.shape)"
   ]
  },
  {
   "cell_type": "markdown",
   "metadata": {},
   "source": [
    "# Implementación per-data"
   ]
  },
  {
   "cell_type": "code",
   "execution_count": null,
   "metadata": {},
   "outputs": [],
   "source": [
    "np.random.seed(2)\n",
    "\n",
    "W = np.random.random()\n",
    "b = 0\n",
    "\n",
    "print(W, b)"
   ]
  },
  {
   "cell_type": "code",
   "execution_count": null,
   "metadata": {},
   "outputs": [],
   "source": [
    "alpha = 0.05 #learning rate\n",
    "epochs = 1000\n",
    "\n",
    "cost_list = []\n",
    "\n",
    "m = X_new.shape[1] #numero de datos en el dataset\n",
    "\n",
    "for epoca in range(epochs): #numero de veces que se repite el descenso del gradiente\n",
    "    dW = 0\n",
    "    db = 0\n",
    "    \n",
    "    e = 0\n",
    "    \n",
    "    for i in range(m):\n",
    "        Y_pred = W * X_new[0,i] + b\n",
    "\n",
    "        dz = Y_pred - Y_new[0,i]\n",
    "        dW += dz * X_new[0, i] \n",
    "        db += dz\n",
    "        \n",
    "        e += (Y_pred - Y_new[0, i])**2\n",
    "        \n",
    "    #promedio de las derivadas\n",
    "    dW = dW / m\n",
    "    db = db / m\n",
    "    \n",
    "    #promedio del error\n",
    "    e = e / (2*m)\n",
    "    \n",
    "    #actualizacion\n",
    "    W = W - alpha * dW\n",
    "    b = b - alpha * db\n",
    "    \n",
    "    if(epoca % 100 == 0): #imprimir cada 100 epocas\n",
    "        \n",
    "        print(\"Total error: \", e)\n",
    "        cost_list.append(e)\n",
    "\n",
    "plt.plot(cost_list)\n",
    "plt.show()"
   ]
  },
  {
   "cell_type": "code",
   "execution_count": null,
   "metadata": {},
   "outputs": [],
   "source": [
    "print(W, b)"
   ]
  },
  {
   "cell_type": "code",
   "execution_count": null,
   "metadata": {},
   "outputs": [],
   "source": [
    "y_solution = W * X + b #prediccion\n",
    "\n",
    "plt.scatter(X, Y, color='red')\n",
    "plt.plot(X, y_solution)\n",
    "plt.show()"
   ]
  },
  {
   "cell_type": "markdown",
   "metadata": {},
   "source": [
    "# Implementación Vectorizada\n",
    "\n",
    "Para ilustrar el concepto de vectorización, exploremos el siguiente ejemplo mediante dos implementaciones y midamos el tiempo de cómputo.\n",
    "\n",
    "__Problema__: Calcular la sumatoria de la multiplicatoria de dos arreglos de gran tamaño e implementar utilizando ciclos, y mediante vectorización. "
   ]
  },
  {
   "cell_type": "code",
   "execution_count": null,
   "metadata": {},
   "outputs": [],
   "source": [
    "from time import time"
   ]
  },
  {
   "cell_type": "code",
   "execution_count": null,
   "metadata": {},
   "outputs": [],
   "source": [
    "#Creamos dos arreglos de diez mil valores aleatorios\n",
    "np.random.seed(2)\n",
    "A = np.random.random(10000)\n",
    "B = np.random.random(10000)"
   ]
  },
  {
   "cell_type": "code",
   "execution_count": null,
   "metadata": {},
   "outputs": [],
   "source": [
    "#Forma 1: utilizando ciclos\n",
    "\n",
    "tic = time()\n",
    "\n",
    "suma = 0\n",
    "\n",
    "for i in range(10000):\n",
    "    suma = suma + A[i]*B[i]\n",
    "\n",
    "print(\"Suma: %.4f\"%suma)\n",
    "\n",
    "toc = time()\n",
    "\n",
    "print(\"Elapsed time in miliseconds:\",(toc-tic)*1000)"
   ]
  },
  {
   "cell_type": "code",
   "execution_count": null,
   "metadata": {},
   "outputs": [],
   "source": [
    "#Forma 2: utilizando vectorizacion\n",
    "\n",
    "tic = time()\n",
    "\n",
    "suma = np.sum(A*B)\n",
    "\n",
    "print(\"Suma: %.4f\"%suma)\n",
    "\n",
    "toc = time()\n",
    "\n",
    "print(\"Elapsed time in miliseconds: \",(toc-tic)*1000)"
   ]
  },
  {
   "cell_type": "markdown",
   "metadata": {},
   "source": [
    "<hr>\n",
    "\n",
    "Ahora implementemos el descenso del gradiente utilizando vectorización, según el siguiente algoritmo."
   ]
  },
  {
   "cell_type": "markdown",
   "metadata": {},
   "source": [
    "<hr>\n",
    "Algoritmo vectorizado:\n",
    "\n",
    "<br>\n",
    "\n",
    "$\n",
    "\\\\\n",
    "repeat(n\\_{epochs})\\{\n",
    "\\\\\n",
    "\\hspace{10mm} Y_{pred}^{[i]} = W^{T}X+b\n",
    "\\\\\n",
    "\\hspace{10mm} e = \\frac{1}{2m}\\sum{(Y - Y_{pred})^2}\n",
    "\\\\\n",
    "\\hspace{10mm} dZ = (Y_{pred} - Y)\n",
    "\\\\\n",
    "\\hspace{10mm} dW = \\frac{X.dZ^{T}}{m}\n",
    "\\\\\n",
    "\\hspace{10mm} db = \\frac{dZ}{m}\n",
    "\\\\\n",
    "\\hspace{10mm} W = W - \\alpha dW\n",
    "\\\\\n",
    "\\hspace{10mm} b = b - \\alpha db\n",
    "\\\\\n",
    "\\}\n",
    "$\n",
    "\n"
   ]
  },
  {
   "cell_type": "code",
   "execution_count": null,
   "metadata": {},
   "outputs": [],
   "source": [
    "#Funcion de error: error medio cuadrado\n",
    "def mse(a, y):\n",
    "    m = y.shape[1]\n",
    "    return np.sum((a - y)**2) / (2*m)"
   ]
  },
  {
   "cell_type": "code",
   "execution_count": null,
   "metadata": {},
   "outputs": [],
   "source": [
    "np.random.seed(2)\n",
    "\n",
    "W = np.random.random([1, X.shape[1]])\n",
    "b = np.array([[0]])\n",
    "\n",
    "print(W, b)"
   ]
  },
  {
   "cell_type": "code",
   "execution_count": null,
   "metadata": {},
   "outputs": [],
   "source": [
    "X_new = X.T\n",
    "Y_new = Y.T\n",
    "\n",
    "print(X.shape)"
   ]
  },
  {
   "cell_type": "code",
   "execution_count": null,
   "metadata": {},
   "outputs": [],
   "source": [
    "alpha = 0.05\n",
    "epochs = 1000\n",
    "\n",
    "cost_list = []\n",
    "\n",
    "for epoca in range(epochs):\n",
    "    Y_pred = W.T.dot(X_new) + b\n",
    "    \n",
    "    dz = Y_pred - Y_new\n",
    "    dW = np.dot(X_new, dz.T) / m \n",
    "    db = np.sum(dz) / m\n",
    "    \n",
    "    W = W - alpha * dW\n",
    "    b = b - alpha * db\n",
    "    \n",
    "    if(epoca % 100 == 0):\n",
    "        e = mse(Y_pred, Y_new)\n",
    "        print(\"Total error: \", e)\n",
    "        cost_list.append(e)\n",
    "\n",
    "plt.plot(cost_list)\n",
    "plt.show()"
   ]
  },
  {
   "cell_type": "code",
   "execution_count": null,
   "metadata": {},
   "outputs": [],
   "source": [
    "print(W,b)"
   ]
  },
  {
   "cell_type": "code",
   "execution_count": null,
   "metadata": {},
   "outputs": [],
   "source": [
    "y_solution = W.T.dot(X_new) + b\n",
    "\n",
    "plt.scatter(X, Y, color='red')\n",
    "plt.plot(X, y_solution.T)\n",
    "plt.show()"
   ]
  },
  {
   "cell_type": "code",
   "execution_count": null,
   "metadata": {},
   "outputs": [],
   "source": []
  }
 ],
 "metadata": {
  "kernelspec": {
   "display_name": "Python 3",
   "language": "python",
   "name": "python3"
  },
  "language_info": {
   "codemirror_mode": {
    "name": "ipython",
    "version": 3
   },
   "file_extension": ".py",
   "mimetype": "text/x-python",
   "name": "python",
   "nbconvert_exporter": "python",
   "pygments_lexer": "ipython3",
   "version": "3.6.2"
  }
 },
 "nbformat": 4,
 "nbformat_minor": 2
}
